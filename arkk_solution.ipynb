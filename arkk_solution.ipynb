{
 "cells": [
  {
   "cell_type": "markdown",
   "metadata": {},
   "source": [
    "Assignment Details:\n",
    " \n",
    "Pre-requisites of the code assignment:\n",
    "1. Working experience on Python and any of the NLP libraries like Spacy.\n",
    "2. Working experience on Machine Learning\n",
    " \n",
    " \n",
    "Extract following details from given PDF.\n",
    "1. Extract following details from Applicant and Agent details section in the PDF:\n",
    "A. Extract Person names\n",
    "B. Extract Address\n",
    "C. Extract Company\n",
    "E.g. : For Assignment-1.pdf,\n",
    "   name=\"Amin\",\n",
    "   Company name=\"Britbuild Properties Ltd\",\n",
    "   Address =\"166 Weir Road, London, United Kingdom\"\n",
    " \n",
    "2. Extract proposed materials from the Materials / Proposed Building Section.\n",
    "E.g: In case of Assignment-1.pdf:\n",
    "materials : [\"Stock brickwork\", \"Zinc cladding\", \"Aluminium clad timber glazed windows\", \"Aluminium clad timber doors\"]"
   ]
  },
  {
   "cell_type": "markdown",
   "metadata": {},
   "source": [
    "Importing Libraries"
   ]
  },
  {
   "cell_type": "code",
   "execution_count": 1,
   "metadata": {},
   "outputs": [],
   "source": [
    "import re\n",
    "import pdfplumber\n",
    "import camelot\n",
    "import json\n",
    "import spacy\n",
    "from spacy.matcher import Matcher"
   ]
  },
  {
   "cell_type": "markdown",
   "metadata": {},
   "source": [
    "Parsing the whole text from the PDF"
   ]
  },
  {
   "cell_type": "code",
   "execution_count": 2,
   "metadata": {},
   "outputs": [],
   "source": [
    "text=''\n",
    "with pdfplumber.open('Assignment-1.pdf') as pdf:\n",
    "    #print(pdf.pages)\n",
    "    for i in range(len(pdf.pages)):\n",
    "        #print(i)\n",
    "        page = pdf.pages[i]\n",
    "        text+= '\\n'+page.extract_text()"
   ]
  },
  {
   "cell_type": "code",
   "execution_count": 3,
   "metadata": {},
   "outputs": [
    {
     "name": "stdout",
     "output_type": "stream",
     "text": [
      "\n",
      "Application for Planning Permission.\n",
      "Town and Country Planning Act 1990\n",
      "Publication of applications on planning authority websites.\n",
      "Please note that the information provided on this application form and in supporting documents may be published on the Authority’s website. If\n",
      "you require any further clarification, please contact the Authority’s planning department.\n",
      "1. Site Address\n",
      "Number\n",
      "Suffix\n",
      "Property name Land Adjoining Norbury Railway Station\n",
      "Address line 1 Norbury Avenue\n",
      "Address line 2 Norbury\n",
      "Address line 3\n",
      "Town/city London\n",
      "Postcode SW16 3RW\n",
      "Description of site location must be completed if postcode is not known:\n",
      "Easting (x) 530727\n",
      "Northing (y) 169734\n",
      "Description\n",
      "2. Applicant Details\n",
      "Title Mr\n",
      "First name\n",
      "Surname Amin\n",
      "Company name Britbuild Properties Ltd\n",
      "Address line 1 166 Weir Road\n",
      "Address line 2\n",
      "Address line 3\n",
      "Town/city London\n",
      "Country United Kingdom\n",
      "Planning Portal Reference: PP-09239967\n",
      "2. Applicant Details\n",
      "Postcode\n",
      "Are you an agent acting on behalf of the applicant? Yes   No\n",
      "Primary number\n",
      "Secondary number\n",
      "Fax number\n",
      "Email address\n",
      "3. Agent Details\n",
      "Title Miss\n",
      "First name Ellen\n",
      "Surname Creegan\n",
      "Company name Iceni Projects\n",
      "Address line 1 This is the Space\n",
      "Address line 2 68 Quay Street\n",
      "Address line 3\n",
      "Town/city Manchester\n",
      "Country\n",
      "Postcode M3 3EJ\n",
      "Primary number\n",
      "Secondary number\n",
      "Fax number\n",
      "Email\n",
      "4. Site Area\n",
      "What is the measurement of the site area? 805.00\n",
      "(numeric characters only).\n",
      "Unit Sq. metres\n",
      "5. Description of the Proposal\n",
      "Please describe details of the proposed development or works including any change of use.\n",
      "If you are applying for Technical Details Consent on a site that has been granted Permission In Principle, please include the relevant details in the description\n",
      "below.\n",
      "Construction of a four-storey building comprising of 9 flats with balconies and a ground floor commercial unit (Use Class B8 storage and distribution) with\n",
      "associated parking, bicycle and refuse area; vehicles crossover, pedestrian footpath improvements, new landscaping including communal area.\n",
      "Has the work or change of use already started? Yes   No\n",
      "Planning Portal Reference: PP-09239967\n",
      "6. Existing Use\n",
      "Please describe the current use of the site\n",
      "Vacant, disused area of hardstanding\n",
      "Is the site currently vacant? Yes   No\n",
      "If Yes, please describe the last use of the site\n",
      "Car storage\n",
      "When did this use end\n",
      "(if known)?\n",
      "DD/MM/YYYY\n",
      "Does the proposal involve any of the following? If Yes, you will need to submit an appropriate contamination assessment with your application.\n",
      "Land which is known to be contaminated Yes   No\n",
      "Land where contamination is suspected for all or part of the site Yes   No\n",
      "A proposed use that would be particularly vulnerable to the presence of contamination Yes   No\n",
      "7. Materials\n",
      "Does the proposed development require any materials to be used externally? Yes   No\n",
      "Please provide a description of existing and proposed materials and finishes to be used externally (including type, colour and name for each material):\n",
      "Walls\n",
      "Description of existing materials and finishes (optional): None\n",
      "Description of proposed materials and finishes: Stock brickwork\n",
      "Roof\n",
      "Description of existing materials and finishes (optional): None\n",
      "Description of proposed materials and finishes: Zinc cladding\n",
      "Windows\n",
      "Description of existing materials and finishes (optional): None\n",
      "Description of proposed materials and finishes: Aluminium clad timber glazed windows\n",
      "Doors\n",
      "Description of existing materials and finishes (optional): None\n",
      "Description of proposed materials and finishes: Aluminium clad timber doors\n",
      "Are you supplying additional information on submitted plans, drawings or a design and access statement? Yes   No\n",
      "If Yes, please state references for the plans, drawings and/or design and access statement\n",
      "Please see drawings and DAS accompanying the application.\n",
      "8. Pedestrian and Vehicle Access, Roads and Rights of Way\n",
      "Is a new or altered vehicular access proposed to or from the public highway? Yes   No\n",
      "Planning Portal Reference: PP-09239967\n",
      "8. Pedestrian and Vehicle Access, Roads and Rights of Way\n",
      "Is a new or altered pedestrian access proposed to or from the public highway? Yes   No\n",
      "Are there any new public roads to be provided within the site? Yes   No\n",
      "Are there any new public rights of way to be provided within or adjacent to the site? Yes   No\n",
      "Do the proposals require any diversions/extinguishments and/or creation of rights of way? Yes   No\n",
      "If you answered Yes to any of the above questions, please show details on your plans/drawings and state their reference numbers\n",
      "E385 /PP/002\n",
      "9. Vehicle Parking\n",
      "Does the site have any existing vehicle/cycle parking spaces or will the proposed development add/remove any parking Yes   No\n",
      "spaces?\n",
      "Please provide information on the existing and proposed number of on-site parking spaces\n",
      "Type of vehicle Existing number of spaces Total proposed (including Difference in spaces\n",
      "spaces retained)\n",
      "Cars 0 5 5\n",
      "Disability spaces 0 1 1\n",
      "Light goods vehicles / public carrier vehicles 0 1 1\n",
      "Cycle spaces 0 27 27\n",
      "10. Trees and Hedges\n",
      "Are there trees or hedges on the proposed development site? Yes   No\n",
      "And/or: Are there trees or hedges on land adjacent to the proposed development site that could influence the Yes   No\n",
      "development or might be important as part of the local landscape character?\n",
      "If Yes to either or both of the above, you may need to provide a full tree survey, at the discretion of your local planning authority. If a tree survey is\n",
      "required, this and the accompanying plan should be submitted alongside your application. Your local planning authority should make clear on its\n",
      "website what the survey should contain, in accordance with the current 'BS5837: Trees in relation to design, demolition and construction -\n",
      "Recommendations'.\n",
      "11. Assessment of Flood Risk\n",
      "Is the site within an area at risk of flooding? (Check the location on the Government's Flood map for planning. You Yes   No\n",
      "should also refer to national standing advice and your local planning authority requirements for information as\n",
      "necessary.)\n",
      "If Yes, you will need to submit a Flood Risk Assessment to consider the risk to the proposed site.\n",
      "Is your proposal within 20 metres of a watercourse (e.g. river, stream or beck)? Yes   No\n",
      "Will the proposal increase the flood risk elsewhere? Yes   No\n",
      "How will surface water be disposed of?\n",
      "Sustainable drainage system\n",
      "Existing water course\n",
      "Soakaway\n",
      "Main sewer\n",
      "Planning Portal Reference: PP-09239967\n",
      "11. Assessment of Flood Risk\n",
      "Pond/lake\n",
      "12. Biodiversity and Geological Conservation\n",
      "Is there a reasonable likelihood of the following being affected adversely or conserved and enhanced within the application site, or on land adjacent to\n",
      "or near the application site?\n",
      "To assist in answering this question correctly, please refer to the help text which provides guidance on determining if any important biodiversity or\n",
      "geological conservation features may be present or nearby; and whether they are likely to be affected by the proposals.\n",
      "a) Protected and priority species:\n",
      "Yes, on the development site\n",
      "Yes, on land adjacent to or near the proposed development\n",
      "No\n",
      "b) Designated sites, important habitats or other biodiversity features:\n",
      "Yes, on the development site\n",
      "Yes, on land adjacent to or near the proposed development\n",
      "No\n",
      "c) Features of geological conservation importance:\n",
      "Yes, on the development site\n",
      "Yes, on land adjacent to or near the proposed development\n",
      "No\n",
      "13. Foul Sewage\n",
      "Please state how foul sewage is to be disposed of:\n",
      "Mains Sewer\n",
      "Septic Tank\n",
      "Package Treatment plant\n",
      "Cess Pit\n",
      "Other\n",
      "Unknown\n",
      "Are you proposing to connect to the existing drainage system? Yes   No   Unknown\n",
      "If Yes, please include the details of the existing system on the application drawings. Please state the plan(s)/drawing(s) references.\n",
      "E385 /PP/002\n",
      "14. Waste Storage and Collection\n",
      "Do the plans incorporate areas to store and aid the collection of waste? Yes   No\n",
      "If Yes, please provide details:\n",
      "E385 /PP/002\n",
      "Have arrangements been made for the separate storage and collection of recyclable waste? Yes   No\n",
      "If Yes, please provide details:\n",
      "E385 /PP/002\n",
      "15. Trade Effluent\n",
      "Does the proposal involve the need to dispose of trade effluents or trade waste? Yes   No\n",
      "Planning Portal Reference: PP-09239967\n",
      "16. Residential/Dwelling Units\n",
      "Please note: This question has been updated to include the latest information requirements specified by government.\n",
      "Applications created before 23 May 2020 will not have been updated, please read the ‘Help’ to see details of how to workaround this issue.\n",
      "Does your proposal include the gain, loss or change of use of residential units? Yes   No\n",
      "Please select the proposed housing categories that are relevant to your proposal.\n",
      "Market Housing\n",
      "Social, Affordable or Intermediate Rent\n",
      "Affordable Home Ownership\n",
      "Starter Homes\n",
      "Self-build and Custom Build\n",
      "Add 'Market Housing - Proposed' residential units\n",
      "Market Housing - Proposed\n",
      "Number of bedrooms\n",
      "1 2 3 4+ Unknown Total\n",
      "Houses 1 3 4 1 0 9\n",
      "Total 1 3 4 1 0 9\n",
      "Please select the existing housing categories that are relevant to your proposal.\n",
      "Market Housing\n",
      "Social, Affordable or Intermediate Rent\n",
      "Affordable Home Ownership\n",
      "Starter Homes\n",
      "Self-build and Custom Build\n",
      "Total proposed residential units 9\n",
      "Total existing residential units 0\n",
      "Total net gain or loss of residential units 9\n",
      "17. All Types of Development: Non-Residential Floorspace\n",
      "Does your proposal involve the loss, gain or change of use of non-residential floorspace? Yes   No\n",
      "Note that 'non-residential' covers ALL uses execept Use Class C3 Dwellinghouses\n",
      "Please add details of the use classes and floorspace (if the relevant use class is not shown, please select 'Other' and provide details)\n",
      "Use Class Existing gross Gross internal Total gross new Net additional gross\n",
      "internal floorspace floorspace to be lost internal floorspace internal floorspace\n",
      "(square metres) by change of use or proposed (including following\n",
      "demolition (square changes of use) development (square\n",
      "metres) (square metres) metres)\n",
      "B8 - Storage or distribution 0 0 322 322\n",
      "Total 0 0 322 322\n",
      "Loss or gain of rooms\n",
      "For hotels, residential institutions and hostels please additionally indicate the loss or gain of rooms:\n",
      "18. Employment\n",
      "Are there any existing employees on the site or will the proposed development increase or decrease the number of Yes   No\n",
      "employees?\n",
      "Planning Portal Reference: PP-09239967\n",
      "18. Employment\n",
      "Existing Employees\n",
      "Please complete the following information regarding existing employees:\n",
      "Full-time 0\n",
      "Part-time 0\n",
      "Total full-time 0.00\n",
      "equivalent\n",
      "Proposed Employees\n",
      "If known, please complete the following information regarding proposed employees:\n",
      "Full-time 2\n",
      "Part-time 2\n",
      "Total full-time 3.00\n",
      "equivalent\n",
      "19. Hours of Opening\n",
      "Are Hours of Opening relevant to this proposal? Yes   No\n",
      "Please add details of the of the use classes and hours of opening for each non-residential use proposed (if the relevant use class is not shown, please select\n",
      "'Other' and provide details; if you do not know the hours of opening, select the use class and then select 'Unknown' in the popup box)\n",
      "Use Monday to Friday Saturday Sunday and Bank Unknown\n",
      "Holidays\n",
      "B8 -  Storage or distribution Start Time:   08:00 Start Time:   08:00 Start Time:\n",
      "End Time:    18:00 End Time:    18:00 End Time:\n",
      "20. Industrial or Commercial Processes and Machinery\n",
      "Does this proposal involve the carrying out of industrial or commercial activities and processes? Yes   No\n",
      "Is the proposal for a waste management development? Yes   No\n",
      "If this is a landfill application you will need to provide further information before your application can be determined.  Your waste planning authority\n",
      "should make it clear what information it requires on its website\n",
      "21. Hazardous Substances\n",
      "Does the proposal involve the use or storage of any hazardous substances? Yes   No\n",
      "22. Site Visit\n",
      "Can the site be seen from a public road, public footpath, bridleway or other public land? Yes   No\n",
      "If the planning authority needs to make an appointment to carry out a site visit, whom should they contact?\n",
      "The agent\n",
      "The applicant\n",
      "Other person\n",
      "23. Pre-application Advice\n",
      "Has assistance or prior advice been sought from the local authority about this application? Yes   No\n",
      "Planning Portal Reference: PP-09239967\n",
      "24. Authority Employee/Member\n",
      "With respect to the Authority, is the applicant and/or agent one of the following:\n",
      "(a) a member of staff\n",
      "(b) an elected member\n",
      "(c) related to a member of staff\n",
      "(d) related to an elected member\n",
      "It is an important principle of decision-making that the process is open and transparent. Yes   No\n",
      "For the purposes of this question, \"related to\" means related, by birth or otherwise, closely enough that a fair-minded and\n",
      "informed observer, having considered the facts, would conclude that there was bias on the part of the decision-maker in\n",
      "the Local Planning Authority.\n",
      "Do any of the above statements apply?\n",
      "25. Ownership Certificates and Agricultural Land Declaration\n",
      "CERTIFICATE OF OWNERSHIP - CERTIFICATE A - Town and Country Planning (Development Management Procedure) (England) Order 2015 Certificate\n",
      "under Article 14\n",
      "I certify/The applicant certifies that on the day 21 days before the date of this application nobody except myself/the applicant was the owner* of any\n",
      "part of the land or building to which the application relates, and that none of the land to which the application relates is, or is part of, an agricultural\n",
      "holding**\n",
      "* 'owner' is a person with a freehold interest or leasehold interest with at least 7 years left to run. ** 'agricultural holding' has the meaning given by\n",
      "reference to the definition of 'agricultural tenant' in section 65(8) of the Act.\n",
      "NOTE: You should sign Certificate B, C or D, as appropriate, if you are the sole owner of the land or building to which the application relates but the\n",
      "land is, or is part of, an agricultural holding.\n",
      "Person role\n",
      "The applicant\n",
      "The agent\n",
      "Title Miss\n",
      "First name Ellen\n",
      "Surname Creegan\n",
      "Declaration date 11/11/2020\n",
      "(DD/MM/YYYY)\n",
      "Declaration made\n",
      "26. Declaration\n",
      "I/we hereby apply for planning permission/consent as described in this form and the accompanying plans/drawings and additional information. I/we confirm\n",
      " \n",
      "that, to the best of my/our knowledge, any facts stated are true and accurate and any opinions given are the genuine opinions of the person(s) giving them.\n",
      "Date (cannot be pre- 11/11/2020\n",
      "application)\n",
      "Planning Portal Reference: PP-09239967\n"
     ]
    }
   ],
   "source": [
    "print(text)"
   ]
  },
  {
   "cell_type": "markdown",
   "metadata": {},
   "source": [
    "Extracting the text portions containging the applicant and agent details from the parsed text using Spacy Matcher"
   ]
  },
  {
   "cell_type": "code",
   "execution_count": 4,
   "metadata": {},
   "outputs": [],
   "source": [
    "nlp = spacy.load('en_core_web_lg')"
   ]
  },
  {
   "cell_type": "code",
   "execution_count": 5,
   "metadata": {},
   "outputs": [],
   "source": [
    "matcher_applicant= Matcher(nlp.vocab)\n",
    "matcher_agent= Matcher(nlp.vocab)"
   ]
  },
  {
   "cell_type": "code",
   "execution_count": 6,
   "metadata": {},
   "outputs": [],
   "source": [
    "pattern_applicant=[{'ORTH':'Applicant'},\n",
    "          {'ORTH':'Details'},\n",
    "          {'ORTH':'\\n'},\n",
    "          {'IS_ASCII': True,'OP':'*'},\n",
    "          {'ORTH':'\\n'},\n",
    "          {'ORTH': 'Postcode'},\n",
    "          {'ORTH':{'REGEX': \"^[a-zA-Z0-9]*\\n\"}}]\n",
    "\n",
    "pattern_agent=[{'ORTH':'Agent'},\n",
    "          {'ORTH':'Details'},\n",
    "          {'ORTH':'\\n'},\n",
    "          {'IS_ASCII': True,'OP':'*'},\n",
    "          {'ORTH':'\\n'},\n",
    "          {'ORTH': 'Postcode'},\n",
    "          {'ORTH':{'REGEX': r\".*\"}},\n",
    "          {'ORTH':{'REGEX': r\".*\"}},\n",
    "          {'ORTH':'\\n'}]"
   ]
  },
  {
   "cell_type": "code",
   "execution_count": 7,
   "metadata": {},
   "outputs": [],
   "source": [
    "matcher_applicant.add('Applicant_detail',None,pattern_applicant)\n",
    "matcher_agent.add('Agent_detail',None,pattern_agent)"
   ]
  },
  {
   "cell_type": "code",
   "execution_count": 8,
   "metadata": {},
   "outputs": [],
   "source": [
    "doc=nlp(text)"
   ]
  },
  {
   "cell_type": "code",
   "execution_count": 9,
   "metadata": {},
   "outputs": [],
   "source": [
    "matches_applicant = matcher_applicant(doc)\n",
    "matches_agent = matcher_agent(doc)\n",
    "\n",
    "applicant_text=''\n",
    "agent_text=''"
   ]
  },
  {
   "cell_type": "code",
   "execution_count": 10,
   "metadata": {},
   "outputs": [],
   "source": [
    "for match_id, start,end in matches_applicant :\n",
    "    matched_span = doc[start:end]\n",
    "    applicant_text+=matched_span.text\n",
    "    \n",
    "for match_id, start,end in matches_agent :\n",
    "    matched_span = doc[start:end]\n",
    "    agent_text+=matched_span.text    "
   ]
  },
  {
   "cell_type": "code",
   "execution_count": 11,
   "metadata": {},
   "outputs": [
    {
     "data": {
      "text/plain": [
       "'Applicant Details\\nTitle Mr\\nFirst name\\nSurname Amin\\nCompany name Britbuild Properties Ltd\\nAddress line 1 166 Weir Road\\nAddress line 2\\nAddress line 3\\nTown/city London\\nCountry United Kingdom\\nPlanning Portal Reference: PP-09239967\\n2. Applicant Details\\nPostcode\\n'"
      ]
     },
     "execution_count": 11,
     "metadata": {},
     "output_type": "execute_result"
    }
   ],
   "source": [
    "applicant_text"
   ]
  },
  {
   "cell_type": "code",
   "execution_count": 12,
   "metadata": {},
   "outputs": [
    {
     "data": {
      "text/plain": [
       "'Agent Details\\nTitle Miss\\nFirst name Ellen\\nSurname Creegan\\nCompany name Iceni Projects\\nAddress line 1 This is the Space\\nAddress line 2 68 Quay Street\\nAddress line 3\\nTown/city Manchester\\nCountry\\nPostcode M3 3EJ\\n'"
      ]
     },
     "execution_count": 12,
     "metadata": {},
     "output_type": "execute_result"
    }
   ],
   "source": [
    "agent_text"
   ]
  },
  {
   "cell_type": "markdown",
   "metadata": {},
   "source": [
    "Extracting the Material Table from the PDF using camelot"
   ]
  },
  {
   "cell_type": "code",
   "execution_count": 13,
   "metadata": {},
   "outputs": [
    {
     "name": "stdout",
     "output_type": "stream",
     "text": [
      "2\n"
     ]
    }
   ],
   "source": [
    "\n",
    "tables=camelot.read_pdf('Assignment-1.pdf', flavor='stream', pages='3')\n",
    "print(len(tables))\n",
    "tables[1].parsing_report\n",
    "df1=tables[1].df "
   ]
  },
  {
   "cell_type": "code",
   "execution_count": 14,
   "metadata": {},
   "outputs": [],
   "source": [
    "df1.rename(columns = {0:'DESC',1:'MATERIAL'}, inplace = True) "
   ]
  },
  {
   "cell_type": "code",
   "execution_count": 15,
   "metadata": {},
   "outputs": [
    {
     "data": {
      "text/html": [
       "<div>\n",
       "<style scoped>\n",
       "    .dataframe tbody tr th:only-of-type {\n",
       "        vertical-align: middle;\n",
       "    }\n",
       "\n",
       "    .dataframe tbody tr th {\n",
       "        vertical-align: top;\n",
       "    }\n",
       "\n",
       "    .dataframe thead th {\n",
       "        text-align: right;\n",
       "    }\n",
       "</style>\n",
       "<table border=\"1\" class=\"dataframe\">\n",
       "  <thead>\n",
       "    <tr style=\"text-align: right;\">\n",
       "      <th></th>\n",
       "      <th>DESC</th>\n",
       "      <th>MATERIAL</th>\n",
       "    </tr>\n",
       "  </thead>\n",
       "  <tbody>\n",
       "    <tr>\n",
       "      <th>4</th>\n",
       "      <td>Description of proposed materials and finishes:</td>\n",
       "      <td>Stock brickwork</td>\n",
       "    </tr>\n",
       "    <tr>\n",
       "      <th>7</th>\n",
       "      <td>Description of proposed materials and finishes:</td>\n",
       "      <td>Zinc cladding</td>\n",
       "    </tr>\n",
       "    <tr>\n",
       "      <th>10</th>\n",
       "      <td>Description of proposed materials and finishes:</td>\n",
       "      <td>Aluminium clad timber glazed windows</td>\n",
       "    </tr>\n",
       "    <tr>\n",
       "      <th>13</th>\n",
       "      <td>Description of proposed materials and finishes:</td>\n",
       "      <td>Aluminium clad timber doors</td>\n",
       "    </tr>\n",
       "  </tbody>\n",
       "</table>\n",
       "</div>"
      ],
      "text/plain": [
       "                                               DESC  \\\n",
       "4   Description of proposed materials and finishes:   \n",
       "7   Description of proposed materials and finishes:   \n",
       "10  Description of proposed materials and finishes:   \n",
       "13  Description of proposed materials and finishes:   \n",
       "\n",
       "                                MATERIAL  \n",
       "4                        Stock brickwork  \n",
       "7                          Zinc cladding  \n",
       "10  Aluminium clad timber glazed windows  \n",
       "13           Aluminium clad timber doors  "
      ]
     },
     "execution_count": 15,
     "metadata": {},
     "output_type": "execute_result"
    }
   ],
   "source": [
    "df1[df1['DESC']=='Description of proposed materials and finishes:']"
   ]
  },
  {
   "cell_type": "code",
   "execution_count": 16,
   "metadata": {},
   "outputs": [
    {
     "data": {
      "text/plain": [
       "['Stock brickwork',\n",
       " 'Zinc cladding',\n",
       " 'Aluminium clad timber glazed windows',\n",
       " 'Aluminium clad timber doors']"
      ]
     },
     "execution_count": 16,
     "metadata": {},
     "output_type": "execute_result"
    }
   ],
   "source": [
    "proposed_material=list(df1[df1['DESC']=='Description of proposed materials and finishes:']['MATERIAL'])\n",
    "proposed_material"
   ]
  },
  {
   "cell_type": "markdown",
   "metadata": {},
   "source": [
    "A function to extract specific information from the text using Regex"
   ]
  },
  {
   "cell_type": "code",
   "execution_count": 17,
   "metadata": {},
   "outputs": [],
   "source": [
    "def find_detail(text):  \n",
    "    name = re.match(r\".*\\nTitle(?P<title>.*)\\nFirst name(?P<f_name>.*)\\nSurname(?P<s_name>.*)\\n.*\" , text)\n",
    "    f_name=''.join(name.groupdict().values())\n",
    "    company = re.match(r\"[a-zA-Z0-9\\n\\s]*\\nCompany name(?P<c_name>.*)\\n\" , text)\n",
    "    c_name=''.join(company.groupdict().values())\n",
    "    address = re.match(r\"[a-zA-Z0-9\\n\\s]*\\nAddress line 1(?P<a_1>.*)\\nAddress line 2(?P<a_2>.*)\\nAddress line 3(?P<a_3>.*)\\nTown/city(?P<city>.*)\\nCountry(?P<country>.*)\" ,text)\n",
    "    add=''.join(address.groupdict().values())\n",
    "    post = re.match(r\"[.a-zA-Z0-9\\n\\s/\\-:]*\\nPostcode(?P<p_code>.*)\\n\",text)\n",
    "    p_code=''.join(post.groupdict().values())\n",
    "    address=add+''+p_code\n",
    "    \n",
    "    return {'Full Name': f_name,'Company Name': c_name,'Full Address': address}"
   ]
  },
  {
   "cell_type": "code",
   "execution_count": 18,
   "metadata": {},
   "outputs": [],
   "source": [
    "#find_detail(applicant_text)\n",
    "#find_detail(agent_text)"
   ]
  },
  {
   "cell_type": "markdown",
   "metadata": {},
   "source": [
    "Creating the final output and saving it as a json file"
   ]
  },
  {
   "cell_type": "code",
   "execution_count": 19,
   "metadata": {},
   "outputs": [],
   "source": [
    "final_output={'Agent Details':find_detail(agent_text),'Applicant Details': find_detail(applicant_text),'Proposed Material':proposed_material}"
   ]
  },
  {
   "cell_type": "code",
   "execution_count": 20,
   "metadata": {},
   "outputs": [
    {
     "data": {
      "text/plain": [
       "{'Agent Details': {'Full Name': ' Miss Ellen Creegan',\n",
       "  'Company Name': ' Iceni Projects',\n",
       "  'Full Address': ' This is the Space 68 Quay Street Manchester M3 3EJ'},\n",
       " 'Applicant Details': {'Full Name': ' Mr Amin',\n",
       "  'Company Name': ' Britbuild Properties Ltd',\n",
       "  'Full Address': ' 166 Weir Road London United Kingdom'},\n",
       " 'Proposed Material': ['Stock brickwork',\n",
       "  'Zinc cladding',\n",
       "  'Aluminium clad timber glazed windows',\n",
       "  'Aluminium clad timber doors']}"
      ]
     },
     "execution_count": 20,
     "metadata": {},
     "output_type": "execute_result"
    }
   ],
   "source": [
    "final_output"
   ]
  },
  {
   "cell_type": "code",
   "execution_count": 21,
   "metadata": {},
   "outputs": [],
   "source": [
    "json_object = json.dumps(final_output) \n",
    "\n",
    "with open(\"output.json\", \"w\") as outfile: \n",
    "    outfile.write(json_object)"
   ]
  },
  {
   "cell_type": "code",
   "execution_count": null,
   "metadata": {},
   "outputs": [],
   "source": []
  }
 ],
 "metadata": {
  "kernelspec": {
   "display_name": "Python 3",
   "language": "python",
   "name": "python3"
  },
  "language_info": {
   "codemirror_mode": {
    "name": "ipython",
    "version": 3
   },
   "file_extension": ".py",
   "mimetype": "text/x-python",
   "name": "python",
   "nbconvert_exporter": "python",
   "pygments_lexer": "ipython3",
   "version": "3.8.3"
  }
 },
 "nbformat": 4,
 "nbformat_minor": 4
}
